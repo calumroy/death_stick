{
  "cells": [
    {
      "cell_type": "code",
      "execution_count": null,
      "metadata": {
        "vscode": {
          "languageId": "plaintext"
        }
      },
      "outputs": [],
      "source": [
        "# Death Stick Project Analysis\n",
        "\n",
        "This notebook contains analysis and design exploration for the Death Stick project.\n",
        "\n",
        "## Project Overview\n",
        "- **Project Name**: Death Stick\n",
        "- **Purpose**: [To be defined based on project requirements]\n",
        "- **Analysis Date**: [Current Date]\n",
        "\n",
        "## Contents\n",
        "1. Data Loading and Preprocessing\n",
        "2. Exploratory Data Analysis\n",
        "3. Design Analysis\n",
        "4. Performance Metrics\n",
        "5. Visualization and Results\n",
        "6. Conclusions and Recommendations\n"
      ]
    },
    {
      "cell_type": "code",
      "execution_count": null,
      "metadata": {},
      "outputs": [],
      "source": [
        "# Import necessary libraries\n",
        "import numpy as np\n",
        "import pandas as pd\n",
        "import matplotlib.pyplot as plt\n",
        "import seaborn as sns\n",
        "from datetime import datetime\n",
        "import warnings\n",
        "warnings.filterwarnings('ignore')\n",
        "\n",
        "# Set up plotting style\n",
        "plt.style.use('seaborn-v0_8')\n",
        "sns.set_palette(\"husl\")\n",
        "\n",
        "print(\"Libraries imported successfully!\")\n",
        "print(f\"Analysis started at: {datetime.now().strftime('%Y-%m-%d %H:%M:%S')}\")\n"
      ]
    },
    {
      "cell_type": "code",
      "execution_count": null,
      "metadata": {},
      "outputs": [],
      "source": [
        "## Project Description\n",
        "\n",
        "### Death Stick - Electric SUP Propulsion Device\n",
        "\n",
        "The \"Death Stick\" is an innovative electric propulsion device designed for surfboard riders. It combines the familiar form factor of a SUP (Stand-Up Paddleboard) paddle with electric propulsion technology.\n",
        "\n",
        "**Key Features:**\n",
        "- **Construction**: Carbon fiber or aluminum tubing (60mm outer diameter)\n",
        "- **Propulsion**: Electric propeller at the end instead of a traditional paddle\n",
        "- **Power Source**: Internal battery pack consisting of 10 NMC lithium cells\n",
        "- **Use Case**: Handheld propulsion aid for surfboard riders\n",
        "\n",
        "**Battery Pack Design:**\n",
        "- **Cell Type**: NMC (Nickel Manganese Cobalt) Lithium cylindrical batteries\n",
        "- **Configuration**: 10 cells in series\n",
        "- **Cell Dimensions**: 46mm diameter × 167mm length\n",
        "- **Cell Specifications**: 3.7V nominal, 31Ah capacity\n",
        "- **Spacing**: 10mm gap between cells\n",
        "- **Housing**: Fits within 60mm carbon fiber tubing\n",
        "\n",
        "This analysis focuses on optimizing the battery pack design and overall device performance.\n",
        "\n",
        "---\n",
        "\n",
        "## 1. Data Loading and Preprocessing\n",
        "\n",
        "Load and prepare data for analysis. This section handles:\n",
        "- Battery pack calculations and specifications\n",
        "- Design parameter analysis\n",
        "- Performance modeling\n"
      ]
    },
    {
      "cell_type": "markdown",
      "metadata": {},
      "source": []
    },
    {
      "cell_type": "code",
      "execution_count": null,
      "metadata": {},
      "outputs": [],
      "source": [
        "# Battery Pack Specifications and Calculations\n",
        "\n",
        "# NMC Cell Specifications (from datasheet)\n",
        "cell_specs = {\n",
        "    'nominal_voltage': 3.7,  # V\n",
        "    'max_charge_voltage': 4.2,  # V\n",
        "    'discharge_cutoff_voltage': 2.7,  # V\n",
        "    'capacity': 31,  # Ah\n",
        "    'length': 167,  # mm\n",
        "    'diameter': 46,  # mm\n",
        "    'weight': 680,  # g (±10g)\n",
        "    'internal_resistance': 1,  # mΩ\n",
        "    'max_discharge_current': 124,  # A (4C)\n",
        "    'max_peak_discharge': 310,  # A (10C)\n",
        "    'cycle_life': 1500  # cycles\n",
        "}\n",
        "\n",
        "# Battery Pack Configuration\n",
        "pack_config = {\n",
        "    'num_cells': 10,\n",
        "    'cell_spacing': 10,  # mm gap between cells\n",
        "    'tube_diameter': 60,  # mm outer diameter\n",
        "    'connection_type': 'series'\n",
        "}\n",
        "\n",
        "print(\"=== DEATH STICK BATTERY PACK ANALYSIS ===\\n\")\n",
        "\n",
        "# Calculate total device length (battery section only)\n",
        "total_battery_length = (pack_config['num_cells'] * cell_specs['length'] + \n",
        "                       (pack_config['num_cells'] - 1) * pack_config['cell_spacing'])\n",
        "\n",
        "print(f\"1. DEVICE LENGTH CALCULATIONS:\")\n",
        "print(f\"   • Cell length: {cell_specs['length']} mm\")\n",
        "print(f\"   • Number of cells: {pack_config['num_cells']}\")\n",
        "print(f\"   • Spacing between cells: {pack_config['cell_spacing']} mm\")\n",
        "print(f\"   • Total battery pack length: {total_battery_length} mm ({total_battery_length/1000:.2f} m)\")\n",
        "\n",
        "# Calculate voltage specifications\n",
        "min_pack_voltage = pack_config['num_cells'] * cell_specs['discharge_cutoff_voltage']\n",
        "nominal_pack_voltage = pack_config['num_cells'] * cell_specs['nominal_voltage']\n",
        "max_pack_voltage = pack_config['num_cells'] * cell_specs['max_charge_voltage']\n",
        "\n",
        "print(f\"\\n2. VOLTAGE SPECIFICATIONS:\")\n",
        "print(f\"   • Minimum voltage (discharge cutoff): {min_pack_voltage:.1f} V\")\n",
        "print(f\"   • Nominal voltage: {nominal_pack_voltage:.1f} V\")\n",
        "print(f\"   • Maximum voltage (fully charged): {max_pack_voltage:.1f} V\")\n",
        "\n",
        "# Calculate capacity (series connection = same capacity as single cell)\n",
        "pack_capacity = cell_specs['capacity']\n",
        "\n",
        "print(f\"\\n3. CAPACITY SPECIFICATIONS:\")\n",
        "print(f\"   • Pack capacity: {pack_capacity} Ah\")\n",
        "print(f\"   • Energy storage (nominal): {nominal_pack_voltage * pack_capacity:.1f} Wh\")\n",
        "\n",
        "# Calculate total weight\n",
        "total_weight = pack_config['num_cells'] * cell_specs['weight']\n",
        "\n",
        "print(f\"\\n4. WEIGHT AND SIZE:\")\n",
        "print(f\"   • Weight per cell: {cell_specs['weight']} g\")\n",
        "print(f\"   • Total battery weight: {total_weight} g ({total_weight/1000:.2f} kg)\")\n",
        "print(f\"   • Cell diameter: {cell_specs['diameter']} mm (fits in {pack_config['tube_diameter']} mm tube)\")\n",
        "\n",
        "# Current capabilities\n",
        "max_continuous_current = cell_specs['max_discharge_current']\n",
        "max_peak_current = cell_specs['max_peak_discharge']\n",
        "\n",
        "print(f\"\\n5. CURRENT SPECIFICATIONS:\")\n",
        "print(f\"   • Max continuous discharge: {max_continuous_current} A\")\n",
        "print(f\"   • Max peak discharge: {max_peak_current} A\")\n",
        "print(f\"   • Max continuous power: {nominal_pack_voltage * max_continuous_current:.0f} W\")\n",
        "print(f\"   • Max peak power: {nominal_pack_voltage * max_peak_current:.0f} W\")\n"
      ]
    },
    {
      "cell_type": "code",
      "execution_count": null,
      "metadata": {},
      "outputs": [],
      "source": [
        "# Create battery pack data for analysis\n",
        "battery_data = {\n",
        "    'cell_id': range(1, pack_config['num_cells'] + 1),\n",
        "    'position_mm': [i * (cell_specs['length'] + pack_config['cell_spacing']) \n",
        "                   for i in range(pack_config['num_cells'])],\n",
        "    'voltage_min': [cell_specs['discharge_cutoff_voltage']] * pack_config['num_cells'],\n",
        "    'voltage_nominal': [cell_specs['nominal_voltage']] * pack_config['num_cells'],\n",
        "    'voltage_max': [cell_specs['max_charge_voltage']] * pack_config['num_cells'],\n",
        "    'capacity_ah': [cell_specs['capacity']] * pack_config['num_cells'],\n",
        "    'weight_g': [cell_specs['weight']] * pack_config['num_cells'],\n",
        "    'length_mm': [cell_specs['length']] * pack_config['num_cells'],\n",
        "    'diameter_mm': [cell_specs['diameter']] * pack_config['num_cells']\n",
        "}\n",
        "\n",
        "df = pd.DataFrame(battery_data)\n",
        "\n",
        "# Store key calculations for later use\n",
        "calculations = {\n",
        "    'total_length_mm': total_battery_length,\n",
        "    'total_weight_g': total_weight,\n",
        "    'pack_voltage_min': min_pack_voltage,\n",
        "    'pack_voltage_nominal': nominal_pack_voltage,\n",
        "    'pack_voltage_max': max_pack_voltage,\n",
        "    'pack_capacity_ah': pack_capacity,\n",
        "    'pack_energy_wh': nominal_pack_voltage * pack_capacity,\n",
        "    'max_continuous_power_w': nominal_pack_voltage * max_continuous_current,\n",
        "    'max_peak_power_w': nominal_pack_voltage * max_peak_current\n",
        "}\n",
        "\n",
        "print(\"\\nBattery Pack Data Summary:\")\n",
        "print(f\"Created dataset with {len(df)} cells\")\n",
        "print(f\"Total system: {calculations['total_length_mm']} mm, {calculations['total_weight_g']} g\")\n",
        "print(f\"Pack voltage range: {calculations['pack_voltage_min']}-{calculations['pack_voltage_max']} V\")\n",
        "print(f\"Energy capacity: {calculations['pack_energy_wh']} Wh\")\n",
        "\n",
        "df.head()\n"
      ]
    },
    {
      "cell_type": "code",
      "execution_count": null,
      "metadata": {},
      "outputs": [],
      "source": [
        "### Key Results Summary\n",
        "\n",
        "Based on the 10-cell NMC battery pack configuration:\n",
        "\n",
        "| **Specification** | **Value** |\n",
        "|-------------------|-----------|\n",
        "| **Device Length (Battery Section)** | 1,760 mm (1.76 m) |\n",
        "| **Total Weight (Batteries Only)** | 6.8 kg |\n",
        "| **Voltage Range** | 27.0 V - 42.0 V |\n",
        "| **Nominal Voltage** | 37.0 V |\n",
        "| **Capacity** | 31 Ah |\n",
        "| **Energy Storage** | 1,147 Wh (1.15 kWh) |\n",
        "| **Max Continuous Power** | 4,588 W (~4.6 kW) |\n",
        "| **Max Peak Power** | 11,470 W (~11.5 kW) |\n",
        "\n",
        "**Design Considerations:**\n",
        "- The 1.76m battery section is quite long for a handheld device\n",
        "- 6.8 kg battery weight will require ergonomic consideration\n",
        "- High power output suitable for marine propulsion\n",
        "- Significant energy storage for extended operation\n"
      ]
    },
    {
      "cell_type": "code",
      "execution_count": null,
      "metadata": {},
      "outputs": [],
      "source": [
        "\n"
      ]
    },
    {
      "cell_type": "code",
      "execution_count": null,
      "metadata": {},
      "outputs": [],
      "source": [
        "\n"
      ]
    },
    {
      "cell_type": "code",
      "execution_count": null,
      "metadata": {},
      "outputs": [],
      "source": [
        "\n"
      ]
    },
    {
      "cell_type": "code",
      "execution_count": null,
      "metadata": {},
      "outputs": [],
      "source": [
        "\n"
      ]
    },
    {
      "cell_type": "code",
      "execution_count": null,
      "metadata": {},
      "outputs": [],
      "source": []
    },
    {
      "cell_type": "code",
      "execution_count": null,
      "metadata": {},
      "outputs": [],
      "source": [
        "\n"
      ]
    }
  ],
  "metadata": {
    "language_info": {
      "name": "python"
    }
  },
  "nbformat": 4,
  "nbformat_minor": 2
}
